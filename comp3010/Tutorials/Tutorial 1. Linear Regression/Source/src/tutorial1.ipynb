{
 "cells": [
  {
   "cell_type": "markdown",
   "id": "dd5ad2a6",
   "metadata": {
    "slideshow": {
     "slide_type": "slide"
    }
   },
   "source": [
    "\n",
    "     \n",
    "# Implement the ridge regression algorithm\n",
    "\n",
    "   - Loss function\n",
    "$$L(\\mathbf{w}, b) =\\frac{1}{n}\\sum_{i=1}^n l^{(i)}(\\mathbf{w}, b) =\\frac{1}{n} \\sum_{i=1}^n \\frac{1}{2}\\left(\\mathbf{w}^\\top \\mathbf{x}^{(i)} + b - y^{(i)}\\right)^2 + \\lambda \\mathbf{w}^\\top\\mathbf{w}.$$\n",
    "  - The first term is the least square error loss, which is already defined in the codes for linear regression in Chapter 3\n",
    "  - The second term is the sqaured norm of the weight vector $\\mathbf{w}$. For example, if $\\mathbf{w}=[1,2,3]$, then $\\mathbf{w}^T\\mathbf{w}=1^2+2^2+3^2=14$. For more about norms and dot product of vectors, please read the slides of Lecture 1 regarding linear algebra."
   ]
  },
  {
   "cell_type": "markdown",
   "id": "e40ed9d9",
   "metadata": {},
   "source": []
  },
  {
   "cell_type": "code",
   "execution_count": 1,
   "id": "9134abc1",
   "metadata": {},
   "outputs": [],
   "source": [
    "%matplotlib inline\n",
    "import random\n",
    "import torch\n",
    "from d2l import torch as d2l"
   ]
  },
  {
   "cell_type": "code",
   "execution_count": 2,
   "id": "9cce4173",
   "metadata": {},
   "outputs": [],
   "source": [
    "def synthetic_data(w, b, num_examples):  #@save\n",
    "    \"\"\"Generate y = Xw + b + noise.\"\"\"\n",
    "    X = torch.normal(0, 1, (num_examples, len(w)))\n",
    "    y = torch.matmul(X, w) + b\n",
    "    y += torch.normal(0, 0.01, y.shape)\n",
    "    return X, y.reshape((-1, 1))"
   ]
  },
  {
   "cell_type": "markdown",
   "id": "764a6bcb",
   "metadata": {},
   "source": [
    "### Parameters\n",
    "\n"
   ]
  },
  {
   "cell_type": "code",
   "execution_count": 3,
   "id": "93e5c5d4",
   "metadata": {},
   "outputs": [],
   "source": [
    "data_dim=100\n",
    "data_size=100\n",
    "batch_size=20\n",
    "lr = 0.03\n",
    "num_epochs = 10\n",
    "lambd = 0.01;"
   ]
  },
  {
   "cell_type": "markdown",
   "id": "e5259039",
   "metadata": {},
   "source": [
    "## Geneate the true linear model and the data"
   ]
  },
  {
   "cell_type": "code",
   "execution_count": 4,
   "id": "5b00ac03",
   "metadata": {},
   "outputs": [],
   "source": [
    "#true_w_o = torch.tensor([2, -3.4])\n",
    "torch.manual_seed(0)\n",
    "true_w = torch.normal(0,1,(1,data_dim))\n",
    "true_w = true_w.reshape([data_dim])\n",
    "true_b = 4.2\n",
    "#true_b = 0\n",
    "features, labels = synthetic_data(true_w, true_b, data_size)\n",
    "\n",
    "\n",
    "#print('features:', features[0],'\\nlabel:', labels[0])"
   ]
  },
  {
   "cell_type": "markdown",
   "id": "773a2cb7",
   "metadata": {},
   "source": [
    "## Split the data into multiple subsets (batches)"
   ]
  },
  {
   "cell_type": "code",
   "execution_count": 5,
   "id": "e06414d6",
   "metadata": {},
   "outputs": [],
   "source": [
    "def data_iter(batch_size, features, labels):\n",
    "    num_examples = len(features)\n",
    "    indices = list(range(num_examples))\n",
    "    # The examples are read at random, in no particular order\n",
    "    random.shuffle(indices)\n",
    "    for i in range(0, num_examples, batch_size):\n",
    "        batch_indices = torch.tensor(\n",
    "            indices[i: min(i + batch_size, num_examples)])\n",
    "        yield features[batch_indices], labels[batch_indices]"
   ]
  },
  {
   "cell_type": "code",
   "execution_count": 6,
   "id": "5e73c79c",
   "metadata": {},
   "outputs": [],
   "source": [
    "#batch_size = 10\n",
    "#batch_size = 20\n",
    "#for X, y in data_iter(batch_size, features, labels):\n",
    "#    print(X, '\\n', y)\n",
    "#    break"
   ]
  },
  {
   "cell_type": "markdown",
   "id": "28a2c93f",
   "metadata": {},
   "source": [
    "## Initialization of the weight vector and the bias "
   ]
  },
  {
   "cell_type": "code",
   "execution_count": 7,
   "id": "20366de5",
   "metadata": {},
   "outputs": [],
   "source": [
    "w = torch.normal(0, 0.01, size=(data_dim,1), requires_grad=True)\n",
    "b = torch.zeros(1, requires_grad=True)"
   ]
  },
  {
   "cell_type": "markdown",
   "id": "e0f5e0ea",
   "metadata": {},
   "source": [
    "## Define the linear model"
   ]
  },
  {
   "cell_type": "code",
   "execution_count": 8,
   "id": "8cbf8a82",
   "metadata": {},
   "outputs": [],
   "source": [
    "def linreg(X, w, b):  #@save\n",
    "    \"\"\"The linear regression model.\"\"\"\n",
    "    return torch.matmul(X, w) + b"
   ]
  },
  {
   "cell_type": "markdown",
   "id": "46f270d1",
   "metadata": {},
   "source": [
    "## Define the squared loss and the $L_2$ penalty"
   ]
  },
  {
   "cell_type": "code",
   "execution_count": 9,
   "id": "6e070266",
   "metadata": {},
   "outputs": [],
   "source": [
    "def squared_loss(y_hat, y):  #@save\n",
    "    \"\"\"Squared loss.\"\"\"\n",
    "    return (y_hat - y.reshape(y_hat.shape)) ** 2 / 2\n",
    "\n",
    "def l2_penalty(w):\n",
    "    return torch.sum(w.pow(2)) / 2"
   ]
  },
  {
   "cell_type": "markdown",
   "id": "463237bc",
   "metadata": {},
   "source": [
    "## Define the optimization algorithm: stochastic gradient descent (sgd) method"
   ]
  },
  {
   "cell_type": "code",
   "execution_count": 10,
   "id": "26792071",
   "metadata": {},
   "outputs": [],
   "source": [
    "def sgd(params, lr, batch_size):  #@save\n",
    "    \"\"\"Minibatch stochastic gradient descent.\"\"\"\n",
    "    with torch.no_grad():\n",
    "        for param in params:\n",
    "            param -= lr * (param.grad / batch_size)\n",
    "            param.grad.zero_()"
   ]
  },
  {
   "cell_type": "markdown",
   "id": "a8bfaa99",
   "metadata": {},
   "source": [
    "## Set linreg as the net (the model object in neural network implementations)"
   ]
  },
  {
   "cell_type": "code",
   "execution_count": 11,
   "id": "ba972d0d",
   "metadata": {},
   "outputs": [],
   "source": [
    "#trainer = torch.optim.SGD([w,b], lr=0.03, weight_decay=0.01)\n",
    "#lr = 0.03\n",
    "#num_epochs = 1000\n",
    "net = linreg\n",
    "loss = squared_loss\n",
    "#loss = ridge_loss\n",
    "#lambd = 0.1;"
   ]
  },
  {
   "cell_type": "markdown",
   "id": "2654af72",
   "metadata": {},
   "source": [
    "## Training\n",
    "   - Each epoch goes through all the batches (which means the entire training set)\n",
    "   - Overall loss $l$: sum of the squared loss and the penalty term\n",
    "   - l.sum().backward: compute the gradients of the loss function with respect to the model parameters ($w$ and $b$ for linear regression). You can think the negative of the gradient as the best direction to reduce the loss function. "
   ]
  },
  {
   "cell_type": "code",
   "execution_count": 12,
   "id": "46587910",
   "metadata": {},
   "outputs": [
    {
     "name": "stdout",
     "output_type": "stream",
     "text": [
      "epoch 1, 40.005669\n",
      "epoch 2, 24.424444\n",
      "epoch 3, 15.807398\n",
      "epoch 4, 10.741873\n",
      "epoch 5, 7.665995\n",
      "epoch 6, 5.731526\n",
      "epoch 7, 4.405257\n",
      "epoch 8, 3.502190\n",
      "epoch 9, 2.854735\n",
      "epoch 10, 2.373071\n"
     ]
    }
   ],
   "source": [
    "for epoch in range(num_epochs):\n",
    "    for X, y in data_iter(batch_size, features, labels):\n",
    "        #l = loss(net(X, w, b), y)  # Minibatch loss in `X` and `y`\n",
    "        l = loss(net(X, w , b), y) + lambd * l2_penalty(w)\n",
    "        # Compute gradient on `l` with respect to [`w`, `b`]\n",
    "        l.sum().backward()\n",
    "        sgd([w, b], lr, batch_size)  # Update parameters using their gradient\n",
    "    with torch.no_grad():\n",
    "        train_l = loss(net(features, w, b), labels)\n",
    "        # train_l = loss(net(features, w, b), labels,w)\n",
    "        #print(train_l.shape)\n",
    "        \n",
    "        print(f'epoch {epoch + 1}, {float(train_l.mean()):f}')"
   ]
  },
  {
   "cell_type": "code",
   "execution_count": 13,
   "id": "41ff82bf",
   "metadata": {},
   "outputs": [
    {
     "name": "stdout",
     "output_type": "stream",
     "text": [
      "error in estimating w: 4.98659086227417\n",
      "error in estimating b: tensor([1.5187], grad_fn=<RsubBackward1>)\n"
     ]
    }
   ],
   "source": [
    "#print(f'error in estimating w: {true_w - w.reshape(true_w.shape)}')\n",
    "print(f'error in estimating w: {torch.linalg.norm(true_w - w.reshape(true_w.shape))}')\n",
    "print(f'error in estimating b: {true_b - b}')"
   ]
  }
 ],
 "metadata": {
  "celltoolbar": "Slideshow",
  "kernelspec": {
   "display_name": "Python 3 (ipykernel)",
   "language": "python",
   "name": "python3"
  },
  "language_info": {
   "codemirror_mode": {
    "name": "ipython",
    "version": 3
   },
   "file_extension": ".py",
   "mimetype": "text/x-python",
   "name": "python",
   "nbconvert_exporter": "python",
   "pygments_lexer": "ipython3",
   "version": "3.8.11"
  }
 },
 "nbformat": 4,
 "nbformat_minor": 5
}
