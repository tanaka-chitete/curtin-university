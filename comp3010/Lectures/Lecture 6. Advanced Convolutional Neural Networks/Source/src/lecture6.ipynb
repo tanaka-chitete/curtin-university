{
 "cells": [
  {
   "cell_type": "markdown",
   "id": "dd5ad2a6",
   "metadata": {
    "slideshow": {
     "slide_type": "slide"
    }
   },
   "source": [
    "# Convolutional Neural Networks (II)\n",
    "\n",
    " **Reading**:   Chapter 6.3-6.6 of *Dive Into Deep Learning*\n",
    "\n",
    "## Outline\n",
    "\n",
    "- Padding and Stride\n",
    "- Multiple channels\n",
    "- Pooling\n",
    "- LeNet"
   ]
  },
  {
   "cell_type": "markdown",
   "id": "e231f61c",
   "metadata": {
    "origin_pos": 0,
    "slideshow": {
     "slide_type": "slide"
    }
   },
   "source": [
    "# Padding and Stride\n",
    "\n",
    "\n",
    "## Padding\n",
    "\n",
    "-  Pad a $3 \\times 3$ input with zeros increasing its size to $5 \\times 5$.\n",
    "- The corresponding output then increases to a $4 \\times 4$ matrix.\n",
    "\n",
    "![Two-dimensional cross-correlation with padding.](../img/conv-pad.svg)\n"
   ]
  },
  {
   "cell_type": "markdown",
   "id": "7257716f",
   "metadata": {
    "origin_pos": 0,
    "slideshow": {
     "slide_type": "slide"
    }
   },
   "source": [
    " \n",
    "- Add a total of $p_h$ rows of padding (roughly half on top and half on bottom) and \n",
    "- a total of $p_w$ columns of padding (roughly half on the left and half on the right),\n",
    "- the output shape will be\n",
    "\n",
    "$$(n_h-k_h+p_h+1)\\times(n_w-k_w+p_w+1).$$\n",
    "\n"
   ]
  },
  {
   "cell_type": "code",
   "execution_count": 1,
   "id": "fec8333d",
   "metadata": {
    "origin_pos": 2,
    "slideshow": {
     "slide_type": "slide"
    },
    "tab": [
     "pytorch"
    ]
   },
   "outputs": [
    {
     "data": {
      "text/plain": [
       "torch.Size([8, 8])"
      ]
     },
     "execution_count": 1,
     "metadata": {},
     "output_type": "execute_result"
    }
   ],
   "source": [
    "import torch\n",
    "from torch import nn\n",
    "\n",
    "\n",
    "# We define a convenience function to calculate the convolutional layer. This\n",
    "# function initializes the convolutional layer weights and performs\n",
    "# corresponding dimensionality elevations and reductions on the input and\n",
    "# output\n",
    "def comp_conv2d(conv2d, X):\n",
    "    # Here (1, 1) indicates that the batch size and the number of channels\n",
    "    # are both 1\n",
    "    X = X.reshape((1, 1) + X.shape)\n",
    "    Y = conv2d(X)\n",
    "    # Exclude the first two dimensions that do not interest us: examples and\n",
    "    # channels\n",
    "    return Y.reshape(Y.shape[2:])\n",
    "# Note that here 1 row or column is padded on either side, so a total of 2\n",
    "# rows or columns are added\n",
    "conv2d = nn.Conv2d(1, 1, kernel_size=3, padding=1)\n",
    "X = torch.rand(size=(8, 8))\n",
    "comp_conv2d(conv2d, X).shape"
   ]
  },
  {
   "cell_type": "code",
   "execution_count": 2,
   "id": "40cf5268",
   "metadata": {
    "origin_pos": 6,
    "slideshow": {
     "slide_type": "slide"
    },
    "tab": [
     "pytorch"
    ]
   },
   "outputs": [
    {
     "data": {
      "text/plain": [
       "torch.Size([8, 8])"
      ]
     },
     "execution_count": 2,
     "metadata": {},
     "output_type": "execute_result"
    }
   ],
   "source": [
    "# Here, we use a convolution kernel with a height of 5 and a width of 3. The\n",
    "# padding numbers on either side of the height and width are 2 and 1,\n",
    "# respectively\n",
    "conv2d = nn.Conv2d(1, 1, kernel_size=(5, 3), padding=(2, 1))\n",
    "comp_conv2d(conv2d, X).shape"
   ]
  },
  {
   "cell_type": "markdown",
   "id": "ff34c4dc",
   "metadata": {
    "origin_pos": 8,
    "slideshow": {
     "slide_type": "slide"
    }
   },
   "source": [
    "## Stride\n",
    "\n",
    "\n",
    "\n",
    "- *Stride*: the number of rows and columns traversed per slide\n",
    "\n",
    "![Cross-correlation with strides of 3 and 2 for height and width, respectively.](../img/conv-stride.svg)\n",
    "\n",
    "\n",
    "\n"
   ]
  },
  {
   "cell_type": "code",
   "execution_count": 3,
   "id": "88d83643",
   "metadata": {
    "origin_pos": 10,
    "scrolled": true,
    "slideshow": {
     "slide_type": "slide"
    },
    "tab": [
     "pytorch"
    ]
   },
   "outputs": [
    {
     "data": {
      "text/plain": [
       "torch.Size([4, 4])"
      ]
     },
     "execution_count": 3,
     "metadata": {},
     "output_type": "execute_result"
    }
   ],
   "source": [
    "conv2d = nn.Conv2d(1, 1, kernel_size=3, padding=1, stride=2)\n",
    "comp_conv2d(conv2d, X).shape"
   ]
  },
  {
   "cell_type": "markdown",
   "id": "29aece15",
   "metadata": {
    "origin_pos": 12,
    "slideshow": {
     "slide_type": "slide"
    }
   },
   "source": [
    "Next, we will look at (**a slightly more complicated example**).\n"
   ]
  },
  {
   "cell_type": "code",
   "execution_count": 4,
   "id": "71874930",
   "metadata": {
    "origin_pos": 14,
    "tab": [
     "pytorch"
    ]
   },
   "outputs": [
    {
     "data": {
      "text/plain": [
       "torch.Size([2, 2])"
      ]
     },
     "execution_count": 4,
     "metadata": {},
     "output_type": "execute_result"
    }
   ],
   "source": [
    "conv2d = nn.Conv2d(1, 1, kernel_size=(3, 5), padding=(0, 1), stride=(3, 4))\n",
    "comp_conv2d(conv2d, X).shape"
   ]
  },
  {
   "cell_type": "markdown",
   "id": "eea07ae0",
   "metadata": {
    "origin_pos": 16,
    "slideshow": {
     "slide_type": "slide"
    }
   },
   "source": [
    "\n",
    "\n",
    "## Summary of Padding and Stride\n",
    "\n",
    "* Padding can increase the height and width of the output. This is often used to give the output the same height and width as the input.\n",
    "* The stride can reduce the resolution of the output, for example reducing the height and width of the output to only $1/n$ of the height and width of the input ($n$ is an integer greater than $1$).\n",
    "* Padding and stride can be used to adjust the dimensionality of the data effectively.\n",
    "\n",
    "\n"
   ]
  },
  {
   "cell_type": "markdown",
   "id": "a8c63e3f",
   "metadata": {
    "origin_pos": 0,
    "slideshow": {
     "slide_type": "slide"
    }
   },
   "source": [
    "# Multiple Input and Multiple Output Channels\n",
    "\n",
    "\n",
    "## Multiple Input Channels\n",
    "\n",
    "- RGB input image: represented by three matrices\n",
    "  - has shape $3\\times h\\times w$.\n",
    "- We refer to this axis, with a size of 3, as the *channel* dimension.\n",
    "- Kernel size: $c_i\\times k_h\\times k_w$"
   ]
  },
  {
   "cell_type": "markdown",
   "id": "96e57948",
   "metadata": {
    "origin_pos": 0,
    "slideshow": {
     "slide_type": "slide"
    }
   },
   "source": [
    "- Kernel contains a tensor of shape $k_h\\times k_w$ for *every* input channel\n",
    "\n",
    "![Cross-correlation computation with 2 input channels.](../img/conv-multi-in.svg)"
   ]
  },
  {
   "cell_type": "code",
   "execution_count": 5,
   "id": "599dcbbd",
   "metadata": {
    "origin_pos": 2,
    "slideshow": {
     "slide_type": "slide"
    },
    "tab": [
     "pytorch"
    ]
   },
   "outputs": [],
   "source": [
    "import torch\n",
    "from d2l import torch as d2l"
   ]
  },
  {
   "cell_type": "code",
   "execution_count": 6,
   "id": "60c0f662",
   "metadata": {
    "origin_pos": 3,
    "tab": [
     "pytorch"
    ]
   },
   "outputs": [],
   "source": [
    "def corr2d_multi_in(X, K):\n",
    "    # First, iterate through the 0th dimension (channel dimension) of `X` and\n",
    "    # `K`. Then, add them together\n",
    "    return sum(d2l.corr2d(x, k) for x, k in zip(X, K))"
   ]
  },
  {
   "cell_type": "code",
   "execution_count": 7,
   "id": "b6519017",
   "metadata": {
    "origin_pos": 6,
    "slideshow": {
     "slide_type": "slide"
    },
    "tab": [
     "pytorch"
    ]
   },
   "outputs": [
    {
     "data": {
      "text/plain": [
       "tensor([[ 56.,  72.],\n",
       "        [104., 120.]])"
      ]
     },
     "execution_count": 7,
     "metadata": {},
     "output_type": "execute_result"
    }
   ],
   "source": [
    "X = torch.tensor([[[0.0, 1.0, 2.0], [3.0, 4.0, 5.0], [6.0, 7.0, 8.0]],\n",
    "               [[1.0, 2.0, 3.0], [4.0, 5.0, 6.0], [7.0, 8.0, 9.0]]])\n",
    "K = torch.tensor([[[0.0, 1.0], [2.0, 3.0]], [[1.0, 2.0], [3.0, 4.0]]])\n",
    "\n",
    "corr2d_multi_in(X, K)"
   ]
  },
  {
   "cell_type": "markdown",
   "id": "c964930a",
   "metadata": {
    "origin_pos": 7,
    "slideshow": {
     "slide_type": "slide"
    }
   },
   "source": [
    "## Multiple Output Channels\n",
    "- Kernel size $c_o\\times c_i\\times k_h\\times k_w$. e.g $56\\times 28\\times 224\\times 224$\n"
   ]
  },
  {
   "cell_type": "markdown",
   "id": "67f181a9",
   "metadata": {
    "origin_pos": 13,
    "slideshow": {
     "slide_type": "slide"
    }
   },
   "source": [
    "## $1\\times 1$ Convolutional Layer\n",
    "\n",
    "- Convolution across channels for each spatial position\n",
    " - $k_h = k_w = 1$,\n",
    "- requires the bias and $c_o\\times c_i$ weights where $c_o, c_i$ are the numbers of channels in the input and the output respectively.\n",
    "\n",
    "![The cross-correlation computation uses the $1\\times 1$ convolution kernel with 3 input channels and 2 output channels. The input and output have the same height and width.](../img/conv-1x1.svg)\n",
    ":label:`fig_conv_1x1`\n"
   ]
  },
  {
   "cell_type": "code",
   "execution_count": 8,
   "id": "15d48818",
   "metadata": {
    "origin_pos": 14,
    "slideshow": {
     "slide_type": "slide"
    },
    "tab": [
     "pytorch"
    ]
   },
   "outputs": [],
   "source": [
    "def corr2d_multi_in_out_1x1(X, K):\n",
    "    c_i, h, w = X.shape\n",
    "    c_o = K.shape[0]\n",
    "    X = X.reshape((c_i, h * w))\n",
    "    K = K.reshape((c_o, c_i))\n",
    "    # Matrix multiplication in the fully-connected layer\n",
    "    Y = torch.matmul(K, X)\n",
    "    return Y.reshape((c_o, h, w))"
   ]
  },
  {
   "cell_type": "markdown",
   "id": "69356562",
   "metadata": {
    "origin_pos": 19,
    "slideshow": {
     "slide_type": "slide"
    }
   },
   "source": [
    "## Summary of channels\n",
    "\n",
    "* Multiple channels can be used to extend the model parameters of the convolutional layer.\n",
    "* The $1\\times 1$ convolutional layer is equivalent to the fully-connected layer, when applied on a per pixel basis.\n",
    "* The $1\\times 1$ convolutional layer is typically used to adjust the number of channels between network layers and to control model complexity.\n",
    "\n",
    "\n"
   ]
  },
  {
   "cell_type": "markdown",
   "id": "0d00c9f6",
   "metadata": {
    "origin_pos": 0,
    "slideshow": {
     "slide_type": "slide"
    }
   },
   "source": [
    "# Pooling\n",
    "\n",
    "- Aims to gradually reduce the spatial resolution of our hidden representations.\n",
    "- From lower-level features to high-level features"
   ]
  },
  {
   "cell_type": "markdown",
   "id": "d476523c",
   "metadata": {
    "origin_pos": 0,
    "slideshow": {
     "slide_type": "slide"
    }
   },
   "source": [
    "## Maximum Pooling \n",
    "\n",
    "\n",
    "![Maximum pooling with a pooling window shape of $2\\times 2$. The shaded portions are the first output element as well as the input tensor elements used for the output computation: $\\max(0, 1, 3, 4)=4$.](../img/pooling.svg)\n",
    "\n"
   ]
  },
  {
   "cell_type": "code",
   "execution_count": 9,
   "id": "fc1cdbf1",
   "metadata": {
    "origin_pos": 2,
    "tab": [
     "pytorch"
    ]
   },
   "outputs": [],
   "source": [
    "import torch\n",
    "from torch import nn\n",
    "from d2l import torch as d2l"
   ]
  },
  {
   "cell_type": "code",
   "execution_count": 10,
   "id": "7dac4716",
   "metadata": {
    "origin_pos": 3,
    "slideshow": {
     "slide_type": "slide"
    },
    "tab": [
     "pytorch"
    ]
   },
   "outputs": [],
   "source": [
    "def pool2d(X, pool_size, mode='max'):\n",
    "    p_h, p_w = pool_size\n",
    "    Y = torch.zeros((X.shape[0] - p_h + 1, X.shape[1] - p_w + 1))\n",
    "    for i in range(Y.shape[0]):\n",
    "        for j in range(Y.shape[1]):\n",
    "            if mode == 'max':\n",
    "                Y[i, j] = X[i: i + p_h, j: j + p_w].max()\n",
    "            elif mode == 'avg':\n",
    "                Y[i, j] = X[i: i + p_h, j: j + p_w].mean()\n",
    "    return Y"
   ]
  },
  {
   "cell_type": "code",
   "execution_count": 11,
   "id": "a46ccffa",
   "metadata": {
    "origin_pos": 6,
    "scrolled": true,
    "tab": [
     "pytorch"
    ]
   },
   "outputs": [
    {
     "data": {
      "text/plain": [
       "tensor([[4., 5.],\n",
       "        [7., 8.]])"
      ]
     },
     "execution_count": 11,
     "metadata": {},
     "output_type": "execute_result"
    }
   ],
   "source": [
    "X = torch.tensor([[0.0, 1.0, 2.0], [3.0, 4.0, 5.0], [6.0, 7.0, 8.0]])\n",
    "pool2d(X, (2, 2))"
   ]
  },
  {
   "cell_type": "markdown",
   "id": "1c89a2e8",
   "metadata": {
    "slideshow": {
     "slide_type": "slide"
    }
   },
   "source": [
    "## Average Pooling\n"
   ]
  },
  {
   "cell_type": "code",
   "execution_count": 12,
   "id": "42846a08",
   "metadata": {
    "origin_pos": 8,
    "scrolled": true,
    "tab": [
     "pytorch"
    ]
   },
   "outputs": [
    {
     "data": {
      "text/plain": [
       "tensor([[2., 3.],\n",
       "        [5., 6.]])"
      ]
     },
     "execution_count": 12,
     "metadata": {},
     "output_type": "execute_result"
    }
   ],
   "source": [
    "pool2d(X, (2, 2), 'avg')"
   ]
  },
  {
   "cell_type": "markdown",
   "id": "9b18dbab",
   "metadata": {
    "origin_pos": 9
   },
   "source": [
    "## **Padding, Stride, Channels**\n",
    "\n",
    "- Similar to convolution layers"
   ]
  },
  {
   "cell_type": "markdown",
   "id": "781bc317",
   "metadata": {
    "origin_pos": 36,
    "slideshow": {
     "slide_type": "slide"
    }
   },
   "source": [
    "## Summary of Pooling\n",
    "\n",
    "* Taking the input elements in the pooling window, \n",
    "  - the maximum pooling operation assigns the maximum value as the output\n",
    "  - the average pooling operation assigns the average value as the output.\n",
    "* Alleviate the excessive sensitivity of the convolutional layer to location.\n",
    "* Maximum pooling, combined with a stride larger than 1 can be used to reduce the spatial dimensions.\n",
    "\n",
    "\n"
   ]
  },
  {
   "cell_type": "markdown",
   "id": "83962bda",
   "metadata": {
    "origin_pos": 0,
    "slideshow": {
     "slide_type": "slide"
    }
   },
   "source": [
    "# Convolutional Neural Networks (LeNet)\n",
    "\n",
    "\n",
    "- Introduced byYann LeCun in the 1990s\n",
    "- For handwritten digit recognision in images."
   ]
  },
  {
   "cell_type": "markdown",
   "id": "250e0926",
   "metadata": {
    "origin_pos": 0,
    "slideshow": {
     "slide_type": "slide"
    }
   },
   "source": [
    "## LeNet\n",
    "\n",
    "- **LeNet (LeNet-5) consists of two parts:\n",
    "  - a convolutional encoder consisting of two convolutional layers; and\n",
    "  - a dense block consisting of three fully-connected layers."
   ]
  },
  {
   "cell_type": "markdown",
   "id": "deb25745",
   "metadata": {
    "origin_pos": 0,
    "slideshow": {
     "slide_type": "slide"
    }
   },
   "source": [
    "![Data flow in LeNet. The input is a handwritten digit, the output a probability over 10 possible outcomes.](../img/lenet.svg)\n",
    ":label:`img_lenet`"
   ]
  },
  {
   "cell_type": "code",
   "execution_count": 13,
   "id": "872d9a84",
   "metadata": {
    "origin_pos": 2,
    "slideshow": {
     "slide_type": "slide"
    },
    "tab": [
     "pytorch"
    ]
   },
   "outputs": [],
   "source": [
    "import torch\n",
    "from torch import nn\n",
    "from d2l import torch as d2l\n",
    "\n",
    "net = nn.Sequential(\n",
    "    nn.Conv2d(1, 6, kernel_size=5, padding=2), nn.Sigmoid(),\n",
    "    nn.AvgPool2d(kernel_size=2, stride=2),\n",
    "    nn.Conv2d(6, 16, kernel_size=5), nn.Sigmoid(),\n",
    "    nn.AvgPool2d(kernel_size=2, stride=2),\n",
    "    nn.Flatten(),\n",
    "    nn.Linear(16 * 5 * 5, 120), nn.Sigmoid(),\n",
    "    nn.Linear(120, 84), nn.Sigmoid(),\n",
    "    nn.Linear(84, 10))"
   ]
  },
  {
   "cell_type": "markdown",
   "id": "a635be7b",
   "metadata": {
    "origin_pos": 4,
    "slideshow": {
     "slide_type": "slide"
    }
   },
   "source": [
    "\n",
    "![Compressed notation for LeNet-5.](../img/lenet-vert.svg)\n",
    ":label:`img_lenet_vert`\n"
   ]
  },
  {
   "cell_type": "code",
   "execution_count": 14,
   "id": "e987aec9",
   "metadata": {
    "origin_pos": 6,
    "scrolled": true,
    "slideshow": {
     "slide_type": "slide"
    },
    "tab": [
     "pytorch"
    ]
   },
   "outputs": [
    {
     "name": "stdout",
     "output_type": "stream",
     "text": [
      "Conv2d output shape: \t torch.Size([1, 6, 28, 28])\n",
      "Sigmoid output shape: \t torch.Size([1, 6, 28, 28])\n",
      "AvgPool2d output shape: \t torch.Size([1, 6, 14, 14])\n",
      "Conv2d output shape: \t torch.Size([1, 16, 10, 10])\n",
      "Sigmoid output shape: \t torch.Size([1, 16, 10, 10])\n",
      "AvgPool2d output shape: \t torch.Size([1, 16, 5, 5])\n",
      "Flatten output shape: \t torch.Size([1, 400])\n",
      "Linear output shape: \t torch.Size([1, 120])\n",
      "Sigmoid output shape: \t torch.Size([1, 120])\n",
      "Linear output shape: \t torch.Size([1, 84])\n",
      "Sigmoid output shape: \t torch.Size([1, 84])\n",
      "Linear output shape: \t torch.Size([1, 10])\n"
     ]
    }
   ],
   "source": [
    "X = torch.rand(size=(1, 1, 28, 28), dtype=torch.float32)\n",
    "for layer in net:\n",
    "    X = layer(X)\n",
    "    print(layer.__class__.__name__,'output shape: \\t',X.shape)"
   ]
  },
  {
   "cell_type": "markdown",
   "id": "c8189327",
   "metadata": {
    "slideshow": {
     "slide_type": "slide"
    }
   },
   "source": [
    "## Summary\n",
    "\n",
    "* A CNN is a network that employs convolutional layers.\n",
    "* In a CNN, we interleave convolutions, nonlinearities, and (often) pooling operations.\n",
    "* Gradually decrease the spatial resolution, while increasing the number of channels.\n",
    "* LeNet was arguably the first successful deployment of such a network."
   ]
  },
  {
   "cell_type": "code",
   "execution_count": null,
   "id": "db8de86a",
   "metadata": {},
   "outputs": [],
   "source": []
  }
 ],
 "metadata": {
  "celltoolbar": "Slideshow",
  "kernelspec": {
   "display_name": "Python 3 (ipykernel)",
   "language": "python",
   "name": "python3"
  },
  "language_info": {
   "codemirror_mode": {
    "name": "ipython",
    "version": 3
   },
   "file_extension": ".py",
   "mimetype": "text/x-python",
   "name": "python",
   "nbconvert_exporter": "python",
   "pygments_lexer": "ipython3",
   "version": "3.8.11"
  }
 },
 "nbformat": 4,
 "nbformat_minor": 5
}
